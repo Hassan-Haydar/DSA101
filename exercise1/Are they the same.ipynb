{
 "cells": [
  {
   "cell_type": "code",
   "execution_count": 1,
   "id": "2769d523-7fcb-445a-82da-24249f50b732",
   "metadata": {},
   "outputs": [],
   "source": [
    "%matplotlib inline\n",
    "\n",
    "import numpy as np\n",
    "import pandas as pd\n",
    "from matplotlib import pyplot as plt\n",
    "from pathlib import Path"
   ]
  },
  {
   "cell_type": "markdown",
   "id": "abc14e40-301c-4d63-98cb-f8d4d86739cc",
   "metadata": {},
   "source": [
    "# Do we think the same thing is happening in all of these countries?\n",
    "\n",
    "This is a hypothetical dataset representing pesticide residues above a safety threshold vs. percentage of organic farms in different countries. How can we tell if trends are consistent across countries?"
   ]
  },
  {
   "cell_type": "code",
   "execution_count": 2,
   "id": "3b636b8d-de14-4d38-a855-2cfe5567cb80",
   "metadata": {},
   "outputs": [
    {
     "name": "stdout",
     "output_type": "stream",
     "text": [
      "x_mean=54.261, y_mean=47.830, linear regression fr(x)=53.2 -0.10 x, r = -0.062 \n",
      "x_mean=54.268, y_mean=47.836, linear regression fr(x)=53.8 -0.11 x, r = -0.069 \n",
      "x_mean=54.269, y_mean=47.831, linear regression fr(x)=53.8 -0.11 x, r = -0.069 \n",
      "x_mean=54.266, y_mean=47.831, linear regression fr(x)=53.8 -0.11 x, r = -0.069 \n",
      "x_mean=54.267, y_mean=47.838, linear regression fr(x)=53.8 -0.11 x, r = -0.068 \n",
      "x_mean=54.267, y_mean=47.840, linear regression fr(x)=53.3 -0.10 x, r = -0.063 \n",
      "x_mean=54.263, y_mean=47.832, linear regression fr(x)=53.5 -0.10 x, r = -0.064 \n",
      "x_mean=54.260, y_mean=47.840, linear regression fr(x)=53.6 -0.11 x, r = -0.066 \n",
      "x_mean=54.260, y_mean=47.840, linear regression fr(x)=53.1 -0.10 x, r = -0.060 \n",
      "x_mean=54.270, y_mean=47.837, linear regression fr(x)=53.9 -0.11 x, r = -0.069 \n",
      "x_mean=54.269, y_mean=47.835, linear regression fr(x)=53.8 -0.11 x, r = -0.069 \n",
      "x_mean=54.266, y_mean=47.835, linear regression fr(x)=53.4 -0.10 x, r = -0.064 \n",
      "x_mean=54.267, y_mean=47.832, linear regression fr(x)=53.6 -0.11 x, r = -0.067 \n"
     ]
    }
   ],
   "source": [
    "for file in Path('.').glob(\"*.csv\"):\n",
    "    df = pd.read_csv(file)\n",
    "    x, y = df['x'], df['y']\n",
    "    x_mean = np.mean(x)\n",
    "    y_mean = np.mean(y)\n",
    "    coeff = np.polyfit(x, y, deg=1)\n",
    "    corr = np.corrcoef(x, y)[0, 1]\n",
    "    \n",
    "    print(f\"x_mean={x_mean:.3f}, y_mean={y_mean:.3f}, linear regression fr(x)={coeff[1]:.1f} {coeff[0]:.2f} x, r = {corr:.3f} \")"
   ]
  },
  {
   "cell_type": "code",
   "execution_count": 1,
   "id": "ef3ec6f3-8fcc-4898-ae43-b57fdf55cf9e",
   "metadata": {},
   "outputs": [
    {
     "name": "stdout",
     "output_type": "stream",
     "text": [
      "done\n"
     ]
    }
   ],
   "source": [
    "print(\"done\")"
   ]
  },
  {
   "cell_type": "code",
   "execution_count": null,
   "id": "c9f143b8-46e6-41d4-8799-adf864419a37",
   "metadata": {},
   "outputs": [],
   "source": []
  }
 ],
 "metadata": {
  "kernelspec": {
   "display_name": "Python 3",
   "language": "python",
   "name": "python3"
  },
  "language_info": {
   "codemirror_mode": {
    "name": "ipython",
    "version": 3
   },
   "file_extension": ".py",
   "mimetype": "text/x-python",
   "name": "python",
   "nbconvert_exporter": "python",
   "pygments_lexer": "ipython3",
   "version": "3.14.0"
  }
 },
 "nbformat": 4,
 "nbformat_minor": 5
}
