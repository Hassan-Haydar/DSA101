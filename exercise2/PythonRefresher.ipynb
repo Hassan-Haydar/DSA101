{
 "cells": [
  {
   "cell_type": "markdown",
   "id": "face7920-ee64-4b68-8729-e7d623395609",
   "metadata": {},
   "source": [
    "# Python basics"
   ]
  },
  {
   "cell_type": "markdown",
   "id": "57b8fe64-24b8-41a9-bcd9-07ced1532ab4",
   "metadata": {},
   "source": [
    "# Key functions and concepts:\n",
    "````\n",
    "if\n",
    "else\n",
    "elif\n",
    "````\n",
    "\n",
    "````\n",
    "for \n",
    "while\n",
    "````\n",
    "\n",
    "````\n",
    "def\n",
    "return\n",
    "````\n",
    "\n",
    "````\n",
    "class\n",
    "````\n",
    "\n",
    "````\n",
    "import\n",
    "````\n",
    "\n",
    "# Exceptions\n",
    "````\n",
    "except\n",
    "raise\n",
    "try\n",
    "````"
   ]
  },
  {
   "cell_type": "markdown",
   "id": "913062b4-3750-4b59-86e8-2a741c96c61b",
   "metadata": {},
   "source": [
    "# if, elif, else, conditions\n",
    "````\n",
    "if condition:\n",
    "    do_something()\n",
    "elif other_condition:\n",
    "    do_something_else()\n",
    "else:\n",
    "    do_another_thing()\n",
    "\n",
    "\n",
    "````\n",
    "## What is a condition?\n",
    "Some examples:\n",
    "\n",
    "````\n",
    "a > b\n",
    "a != b\n",
    "(a and b) or (c and d)\n",
    "a\n",
    "not a\n",
    "````"
   ]
  },
  {
   "cell_type": "markdown",
   "id": "64c7f981-a415-4e29-8eb0-17cc64edb978",
   "metadata": {},
   "source": [
    "# Iterables and protocols\n",
    "\n",
    "````\n",
    "for thing in iterable:\n",
    "    do_with(thing)\n",
    "````\n",
    "\n",
    "Protocol:\n",
    "very general construct because it does not require some specific iterable, but any object that speaks this protocol."
   ]
  },
  {
   "cell_type": "markdown",
   "id": "d1dabf60-a7bb-4413-9ca3-4358258f6e44",
   "metadata": {},
   "source": [
    "## Some examples"
   ]
  },
  {
   "cell_type": "code",
   "execution_count": null,
   "id": "7ff1c351-fadd-42d8-a042-e731b428aa0e",
   "metadata": {},
   "outputs": [],
   "source": [
    "iterable = [1,2,3,4,]\n",
    "\n",
    "for thing in iterable:\n",
    "    print(thing)"
   ]
  },
  {
   "cell_type": "code",
   "execution_count": null,
   "id": "f0baedb3-9cb9-40fa-893e-9e62d6efc2fa",
   "metadata": {},
   "outputs": [],
   "source": [
    "# This command is reproducible\n",
    "\n",
    "for thing in iterable:\n",
    "    print(thing)"
   ]
  },
  {
   "cell_type": "code",
   "execution_count": null,
   "id": "9a13549e-18b9-4754-b4c2-5c2d2a073ab2",
   "metadata": {},
   "outputs": [],
   "source": [
    "# This only prints the last thing\n",
    "\n",
    "print(thing)"
   ]
  },
  {
   "cell_type": "code",
   "execution_count": null,
   "id": "bc98aaa5-d32f-475d-bee4-e42dd44cd39e",
   "metadata": {},
   "outputs": [],
   "source": [
    "type(iterable)"
   ]
  },
  {
   "cell_type": "code",
   "execution_count": null,
   "id": "59be16d8-cb90-4394-af87-d347813d0f3a",
   "metadata": {},
   "outputs": [],
   "source": [
    "# This also works for strings\n",
    "\n",
    "iterable = \"Lorem ipsum\"\n",
    "\n",
    "type(iterable)"
   ]
  },
  {
   "cell_type": "code",
   "execution_count": null,
   "id": "b481bee7-d2ce-4e8f-88cf-b9bfebaa8b50",
   "metadata": {},
   "outputs": [],
   "source": [
    "for thing in iterable:\n",
    "    print(thing)"
   ]
  },
  {
   "cell_type": "code",
   "execution_count": null,
   "id": "cffb28f1-f2e5-47e4-8a8b-7e6702b7eba6",
   "metadata": {},
   "outputs": [],
   "source": [
    "# Let's make the output look different\n",
    "\n",
    "for thing in iterable:\n",
    "    print(f\"'{thing}', \", end='')"
   ]
  },
  {
   "cell_type": "code",
   "execution_count": null,
   "id": "bb646d7d-568c-4cc3-b9a0-8711d5f2d5ba",
   "metadata": {},
   "outputs": [],
   "source": [
    "# A generator object that we can use like an iterable\n",
    "\n",
    "from pathlib import Path\n",
    "files = Path('.').glob('*.csv')\n",
    "print(files)"
   ]
  },
  {
   "cell_type": "code",
   "execution_count": null,
   "id": "62d94e16-256f-4591-9741-95429ba2293c",
   "metadata": {},
   "outputs": [],
   "source": [
    "# Now iterate\n",
    "\n",
    "for file in files:\n",
    "    print(file)"
   ]
  },
  {
   "cell_type": "code",
   "execution_count": null,
   "id": "927cc7c2-4682-45e1-90f8-5c65ac33f31f",
   "metadata": {},
   "outputs": [],
   "source": [
    "# Aha! It behaves like an iterable, but it's a one-time generator.\n",
    "\n",
    "for file in files:\n",
    "    print(file)"
   ]
  },
  {
   "cell_type": "code",
   "execution_count": null,
   "id": "f88aa2cf-a013-442c-9fc3-1f2355ee209e",
   "metadata": {},
   "outputs": [],
   "source": [
    "# Another generator as an example\n",
    "\n",
    "def generator():\n",
    "    iterable = [1,2,3,4]\n",
    "    for value in iterable:\n",
    "        yield value\n",
    "\n",
    "g = generator()\n",
    "\n",
    "print(g)"
   ]
  },
  {
   "cell_type": "code",
   "execution_count": null,
   "id": "03e4b151-3d22-493a-bb59-a533fa4c842f",
   "metadata": {},
   "outputs": [],
   "source": [
    "# Aha!\n",
    "for thing in g:\n",
    "    print(thing)"
   ]
  },
  {
   "cell_type": "code",
   "execution_count": null,
   "id": "232f9be3-bca4-4d93-bad0-61584d45bf18",
   "metadata": {},
   "outputs": [],
   "source": [
    "for thing in g:\n",
    "    print(thing)"
   ]
  },
  {
   "cell_type": "code",
   "execution_count": null,
   "id": "ac5509d2-2423-46d0-9aec-83346d366863",
   "metadata": {},
   "outputs": [],
   "source": [
    "# while is a bit more basic than for\n",
    "\n",
    "\n",
    "# while condition:\n",
    "#    do_something()\n",
    "    \n",
    "i = 0\n",
    "while i < 5:\n",
    "    print(f'{i}')\n",
    "    i += 1"
   ]
  },
  {
   "cell_type": "markdown",
   "id": "a9f9d664-c286-444d-8bb5-7af84c4790e8",
   "metadata": {},
   "source": [
    "# Defining functions"
   ]
  },
  {
   "cell_type": "code",
   "execution_count": null,
   "id": "876a1970-981c-41c4-8059-5bb23d868942",
   "metadata": {},
   "outputs": [],
   "source": [
    "def my_function(my_parameter):\n",
    "    print(my_parameter)\n",
    "\n",
    "my_function(12)"
   ]
  },
  {
   "cell_type": "code",
   "execution_count": null,
   "id": "c75d2139-4e3f-493b-ab75-5275f4f4da05",
   "metadata": {},
   "outputs": [],
   "source": [
    "my_function(\"Hello world!\")"
   ]
  },
  {
   "cell_type": "code",
   "execution_count": null,
   "id": "eb150be3-97bf-41a8-a089-b5dc3b9d67d8",
   "metadata": {},
   "outputs": [],
   "source": [
    "my_function(files)"
   ]
  },
  {
   "cell_type": "code",
   "execution_count": null,
   "id": "2cb5de44-e3b6-4edb-871c-0ba45ac3a7ae",
   "metadata": {},
   "outputs": [],
   "source": [
    "def my_doubler(my_parameter):\n",
    "    return 2 * my_parameter"
   ]
  },
  {
   "cell_type": "code",
   "execution_count": null,
   "id": "dea2a96f-7ef0-4936-a052-0daf7e3c3b0b",
   "metadata": {},
   "outputs": [],
   "source": [
    "# Explain this result.\n",
    "my_doubler(4)"
   ]
  },
  {
   "cell_type": "code",
   "execution_count": null,
   "id": "fc8aa127-614e-4c3f-9042-9f0cf5ee3408",
   "metadata": {},
   "outputs": [],
   "source": [
    "# Explain this result.\n",
    "my_doubler(\"abc\")"
   ]
  },
  {
   "cell_type": "code",
   "execution_count": null,
   "id": "0c41d6e8-5c86-4ffc-ba31-c88d9081d14d",
   "metadata": {},
   "outputs": [],
   "source": [
    "# Explain this result.\n",
    "my_doubler(files)"
   ]
  },
  {
   "cell_type": "code",
   "execution_count": null,
   "id": "3900e47c-fd22-4f2e-9eb4-75f70185fe1b",
   "metadata": {},
   "outputs": [],
   "source": [
    "# What is a function?\n",
    "my_function"
   ]
  },
  {
   "cell_type": "code",
   "execution_count": null,
   "id": "a77892e1-a6d9-4d01-a857-5701ebe77010",
   "metadata": {},
   "outputs": [],
   "source": [
    "type(my_function)"
   ]
  },
  {
   "cell_type": "code",
   "execution_count": null,
   "id": "d0dec537-fb9e-4c52-91eb-09f5e343d114",
   "metadata": {},
   "outputs": [],
   "source": [
    "# In Python everything is an object, including functions.\n",
    "\n",
    "list_of_functions = [my_function, my_doubler]\n",
    "list_of_functions\n",
    "\n",
    "values = [1,2,3,\"abc\"]\n",
    "for value in values:\n",
    "    for func in list_of_functions:\n",
    "        return_value = func(value)\n",
    "        print(return_value)\n",
    "        print(\"----\")"
   ]
  },
  {
   "cell_type": "markdown",
   "id": "556dcf6a-80ff-4de8-bb5d-1e67454e6ae1",
   "metadata": {},
   "source": [
    "# Classes\n",
    "Object-oriented programming emerged as a favored solution in the 1990's. It is easier to have data and operations on data together. This approach is more manageable.\n",
    "\n",
    "If everything is an object, how do we make one ourselves?\n",
    "\n",
    "Classes are object templates.\n",
    "\n",
    "Motivation:\n",
    "How would you program an inventory of chemicals?"
   ]
  },
  {
   "cell_type": "markdown",
   "id": "e2e3f9d1-b35f-4fc0-a5d4-375a4981bcb8",
   "metadata": {},
   "source": [
    "## First, the non-object-oriented approach"
   ]
  },
  {
   "cell_type": "code",
   "execution_count": null,
   "id": "0ffead68-7032-42b2-b44c-7d2f2e8e1998",
   "metadata": {},
   "outputs": [],
   "source": [
    "# We start with lists of different attributes:\n",
    "# CAS numbers, amounts in some predefined units, ID numbers for the inventory...\n",
    "\n",
    "CASs = [\"64-17-5\", \"67-64-1\"]\n",
    "amounts = [1000, 2000]\n",
    "stock_num = [1, 2]"
   ]
  },
  {
   "cell_type": "code",
   "execution_count": null,
   "id": "6e7870e0-981b-49ec-812c-cecf53936a5a",
   "metadata": {},
   "outputs": [],
   "source": [
    "# We can print this collection of lists as an inventory.\n",
    "\n",
    "for num, amount, CAS in zip(stock_num, amounts, CASs):\n",
    "    print(f\"Stock no: {num}, CAS: {CAS}, Amount: {amount}\")"
   ]
  },
  {
   "cell_type": "code",
   "execution_count": null,
   "id": "872e7c41-8eff-4941-9e7c-434ee79ce382",
   "metadata": {},
   "outputs": [],
   "source": [
    "# What if we want to add material to the inventory?\n",
    "# How would you define the corresponding functions?\n",
    "\n",
    "def add(CAS, amount, CASs, amounts):\n",
    "    pass\n",
    "\n",
    "def take(CAS, amount, CASs, amounts):\n",
    "    pass"
   ]
  },
  {
   "cell_type": "markdown",
   "id": "ab768631-0a6f-42c9-9da0-734e73be00d9",
   "metadata": {},
   "source": [
    "This can get unwieldy very quickly.\n",
    "\n",
    "If you wanted to change this inventory, how would you do it?\n",
    "\n",
    "Defining a class for the inventory of chemical stocks makes this **much easier** and **modular**."
   ]
  },
  {
   "cell_type": "markdown",
   "id": "596886bd-c14c-4326-9f95-c14fb345e2c0",
   "metadata": {},
   "source": [
    "## Now the object-oriented approach"
   ]
  },
  {
   "cell_type": "code",
   "execution_count": null,
   "id": "1384d5c4-c016-4cb9-888a-52d83a661a7e",
   "metadata": {},
   "outputs": [],
   "source": [
    "# We define a class.\n",
    "\n",
    "class Stock:\n",
    "    # Class attribute\n",
    "    num_stocks = 0 \n",
    "    \n",
    "    # Initialize the object\n",
    "    def __init__(self, CAS, amount):\n",
    "        # instance attributes\n",
    "        self.CAS = CAS\n",
    "        self.amount = amount\n",
    "        \n",
    "        Stock.num_stocks += 1\n",
    "        self.number = self.num_stocks\n",
    "    \n",
    "    # Defining a function to add to the stock\n",
    "    def add(self, amount):\n",
    "        self.amount += amount\n",
    "\n",
    "    # Defining a function to take from the stock including an error if not enough is available\n",
    "    def take(self, amount):\n",
    "        if amount <= self.amount:\n",
    "            self.amount -= amount\n",
    "            return amount\n",
    "        else:\n",
    "            raise ValueError(\"Amount exceeds available stock\")\n",
    "\n",
    "    # Function to return a printable representation of the object\n",
    "    def __repr__(self):\n",
    "        return f\"Stock no: {self.number}, CAS: {self.CAS}, Amount: {self.amount}\"\n",
    "        "
   ]
  },
  {
   "cell_type": "code",
   "execution_count": null,
   "id": "ff6eab4e-158e-416c-94b3-40ae99229645",
   "metadata": {},
   "outputs": [],
   "source": [
    "# Now we generate objects of the Stock class\n",
    "\n",
    "ethanol = Stock(\"64-17-5\", 2000)\n",
    "acetone = Stock(\"67-64-1\", 1000)"
   ]
  },
  {
   "cell_type": "code",
   "execution_count": null,
   "id": "b6727171-3ab1-4f2d-8638-0d4a06bf41ca",
   "metadata": {},
   "outputs": [],
   "source": [
    "# What if we want to add to the stock?\n",
    "\n",
    "ethanol.add(500)\n",
    "ethanol"
   ]
  },
  {
   "cell_type": "code",
   "execution_count": null,
   "id": "2c85e1d9-af97-4622-9638-3533268173cd",
   "metadata": {},
   "outputs": [],
   "source": [
    "# Or take from the stock?\n",
    "\n",
    "ethanol.take(750)"
   ]
  },
  {
   "cell_type": "code",
   "execution_count": null,
   "id": "13473f4e-764a-4d0d-b8a1-952e0f78ca4b",
   "metadata": {},
   "outputs": [],
   "source": [
    "# Print the inventory\n",
    "\n",
    "inventory = [ethanol, acetone]\n",
    "\n",
    "for chemical in inventory:\n",
    "    print(chemical)"
   ]
  },
  {
   "cell_type": "code",
   "execution_count": null,
   "id": "ccee386d-bb21-4dd6-a72c-177642b6fbcb",
   "metadata": {},
   "outputs": [],
   "source": [
    "type(ethanol)"
   ]
  },
  {
   "cell_type": "code",
   "execution_count": null,
   "id": "980109a5-716a-400c-90d9-baade3b97744",
   "metadata": {},
   "outputs": [],
   "source": [
    "# What if you try to take more than is in stock?\n",
    "\n",
    "ethanol.take(10000)"
   ]
  },
  {
   "cell_type": "markdown",
   "id": "e5fa4d82-743d-4530-b1e1-0ffc9cafac1b",
   "metadata": {},
   "source": [
    "## Now you try!\n",
    "\n",
    "Can you modify the \"Stock\" class to add the IUPAC name of the chemical?\n",
    "\n",
    "To add units of mass or volume?\n",
    "\n",
    "Try it and then make and modify a small inventory to see how it works."
   ]
  },
  {
   "cell_type": "code",
   "execution_count": null,
   "id": "2d29c2a6-ebdc-4bc3-a7b6-377e008ac8d3",
   "metadata": {},
   "outputs": [],
   "source": []
  }
 ],
 "metadata": {
  "kernelspec": {
   "display_name": "Python 3 (ipykernel)",
   "language": "python",
   "name": "python3"
  },
  "language_info": {
   "codemirror_mode": {
    "name": "ipython",
    "version": 3
   },
   "file_extension": ".py",
   "mimetype": "text/x-python",
   "name": "python",
   "nbconvert_exporter": "python",
   "pygments_lexer": "ipython3",
   "version": "3.12.2"
  }
 },
 "nbformat": 4,
 "nbformat_minor": 5
}
